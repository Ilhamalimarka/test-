{
  "cells": [
    {
      "cell_type": "code",
      "execution_count": null,
      "metadata": {
        "id": "BBtS_NZNyXOj"
      },
      "outputs": [],
      "source": [
        "import pandas as pd\n",
        "import numpy as np\n",
        "import random as rd\n",
        "from sklearn.decomposition import PCA\n",
        "from sklearn import preprocessing #scale\n",
        "import matplotlib.pyplot as plt "
      ]
    },
    {
      "cell_type": "markdown",
      "metadata": {
        "id": "QgNsEkQeyxaq"
      },
      "source": [
        "# Data Generation Code"
      ]
    },
    {
      "cell_type": "markdown",
      "metadata": {
        "id": "U2hIHsquq8zg"
      },
      "source": [
        "Ingin membangkitkan data 100 variabel dengan 2 karakteristik yang berbeda sebagai index: \"wt\" dan \"ko\".\n",
        "\n",
        "wt: Wild Type DNA\n",
        "\n",
        "ko: Knock Out DNA\n"
      ]
    },
    {
      "cell_type": "code",
      "execution_count": null,
      "metadata": {
        "colab": {
          "base_uri": "https://localhost:8080/"
        },
        "id": "SsP2Cj1Yybei",
        "outputId": "df6fdfb4-f5f4-458a-f828-f1b8c5297005"
      },
      "outputs": [
        {
          "data": {
            "text/plain": [
              "['gene1', 'gene2', 'gene3']"
            ]
          },
          "execution_count": 22,
          "metadata": {},
          "output_type": "execute_result"
        }
      ],
      "source": [
        "genes = ['gene' + str(i) for i in range(1,101)]\n",
        "genes[:3]"
      ]
    },
    {
      "cell_type": "markdown",
      "metadata": {
        "id": "Mh8IudWzzaW1"
      },
      "source": [
        "wt= wild type samples \n",
        "\n",
        "\n",
        "ko= knock out samples\n",
        "\n",
        "wt dan ko dibangkitkan dari populasi yang berbeda"
      ]
    },
    {
      "cell_type": "code",
      "execution_count": null,
      "metadata": {
        "colab": {
          "base_uri": "https://localhost:8080/"
        },
        "id": "cg_31jkOzHUo",
        "outputId": "e7b0b32e-0581-4816-8c60-f2d0cd804b37"
      },
      "outputs": [
        {
          "data": {
            "text/plain": [
              "['wt1', 'wt2', 'wt3']"
            ]
          },
          "execution_count": 23,
          "metadata": {},
          "output_type": "execute_result"
        }
      ],
      "source": [
        "wt = ['wt' + str(i) for i in range(1,6)]\n",
        "ko = ['ko' + str(i) for i in range(1,6)]\n",
        "wt[:3]"
      ]
    },
    {
      "cell_type": "code",
      "execution_count": null,
      "metadata": {
        "colab": {
          "base_uri": "https://localhost:8080/",
          "height": 206
        },
        "id": "JdSPdl7izsUP",
        "outputId": "1b918ace-fd8a-4992-daad-fc9351755b71"
      },
      "outputs": [
        {
          "data": {
            "text/html": [
              "\n",
              "  <div id=\"df-40445064-a169-4fd7-9138-84d6c898d925\">\n",
              "    <div class=\"colab-df-container\">\n",
              "      <div>\n",
              "<style scoped>\n",
              "    .dataframe tbody tr th:only-of-type {\n",
              "        vertical-align: middle;\n",
              "    }\n",
              "\n",
              "    .dataframe tbody tr th {\n",
              "        vertical-align: top;\n",
              "    }\n",
              "\n",
              "    .dataframe thead th {\n",
              "        text-align: right;\n",
              "    }\n",
              "</style>\n",
              "<table border=\"1\" class=\"dataframe\">\n",
              "  <thead>\n",
              "    <tr style=\"text-align: right;\">\n",
              "      <th></th>\n",
              "      <th>wt1</th>\n",
              "      <th>wt2</th>\n",
              "      <th>wt3</th>\n",
              "      <th>wt4</th>\n",
              "      <th>wt5</th>\n",
              "      <th>ko1</th>\n",
              "      <th>ko2</th>\n",
              "      <th>ko3</th>\n",
              "      <th>ko4</th>\n",
              "      <th>ko5</th>\n",
              "    </tr>\n",
              "  </thead>\n",
              "  <tbody>\n",
              "    <tr>\n",
              "      <th>gene1</th>\n",
              "      <td>NaN</td>\n",
              "      <td>NaN</td>\n",
              "      <td>NaN</td>\n",
              "      <td>NaN</td>\n",
              "      <td>NaN</td>\n",
              "      <td>NaN</td>\n",
              "      <td>NaN</td>\n",
              "      <td>NaN</td>\n",
              "      <td>NaN</td>\n",
              "      <td>NaN</td>\n",
              "    </tr>\n",
              "    <tr>\n",
              "      <th>gene2</th>\n",
              "      <td>NaN</td>\n",
              "      <td>NaN</td>\n",
              "      <td>NaN</td>\n",
              "      <td>NaN</td>\n",
              "      <td>NaN</td>\n",
              "      <td>NaN</td>\n",
              "      <td>NaN</td>\n",
              "      <td>NaN</td>\n",
              "      <td>NaN</td>\n",
              "      <td>NaN</td>\n",
              "    </tr>\n",
              "    <tr>\n",
              "      <th>gene3</th>\n",
              "      <td>NaN</td>\n",
              "      <td>NaN</td>\n",
              "      <td>NaN</td>\n",
              "      <td>NaN</td>\n",
              "      <td>NaN</td>\n",
              "      <td>NaN</td>\n",
              "      <td>NaN</td>\n",
              "      <td>NaN</td>\n",
              "      <td>NaN</td>\n",
              "      <td>NaN</td>\n",
              "    </tr>\n",
              "    <tr>\n",
              "      <th>gene4</th>\n",
              "      <td>NaN</td>\n",
              "      <td>NaN</td>\n",
              "      <td>NaN</td>\n",
              "      <td>NaN</td>\n",
              "      <td>NaN</td>\n",
              "      <td>NaN</td>\n",
              "      <td>NaN</td>\n",
              "      <td>NaN</td>\n",
              "      <td>NaN</td>\n",
              "      <td>NaN</td>\n",
              "    </tr>\n",
              "    <tr>\n",
              "      <th>gene5</th>\n",
              "      <td>NaN</td>\n",
              "      <td>NaN</td>\n",
              "      <td>NaN</td>\n",
              "      <td>NaN</td>\n",
              "      <td>NaN</td>\n",
              "      <td>NaN</td>\n",
              "      <td>NaN</td>\n",
              "      <td>NaN</td>\n",
              "      <td>NaN</td>\n",
              "      <td>NaN</td>\n",
              "    </tr>\n",
              "  </tbody>\n",
              "</table>\n",
              "</div>\n",
              "      <button class=\"colab-df-convert\" onclick=\"convertToInteractive('df-40445064-a169-4fd7-9138-84d6c898d925')\"\n",
              "              title=\"Convert this dataframe to an interactive table.\"\n",
              "              style=\"display:none;\">\n",
              "        \n",
              "  <svg xmlns=\"http://www.w3.org/2000/svg\" height=\"24px\"viewBox=\"0 0 24 24\"\n",
              "       width=\"24px\">\n",
              "    <path d=\"M0 0h24v24H0V0z\" fill=\"none\"/>\n",
              "    <path d=\"M18.56 5.44l.94 2.06.94-2.06 2.06-.94-2.06-.94-.94-2.06-.94 2.06-2.06.94zm-11 1L8.5 8.5l.94-2.06 2.06-.94-2.06-.94L8.5 2.5l-.94 2.06-2.06.94zm10 10l.94 2.06.94-2.06 2.06-.94-2.06-.94-.94-2.06-.94 2.06-2.06.94z\"/><path d=\"M17.41 7.96l-1.37-1.37c-.4-.4-.92-.59-1.43-.59-.52 0-1.04.2-1.43.59L10.3 9.45l-7.72 7.72c-.78.78-.78 2.05 0 2.83L4 21.41c.39.39.9.59 1.41.59.51 0 1.02-.2 1.41-.59l7.78-7.78 2.81-2.81c.8-.78.8-2.07 0-2.86zM5.41 20L4 18.59l7.72-7.72 1.47 1.35L5.41 20z\"/>\n",
              "  </svg>\n",
              "      </button>\n",
              "      \n",
              "  <style>\n",
              "    .colab-df-container {\n",
              "      display:flex;\n",
              "      flex-wrap:wrap;\n",
              "      gap: 12px;\n",
              "    }\n",
              "\n",
              "    .colab-df-convert {\n",
              "      background-color: #E8F0FE;\n",
              "      border: none;\n",
              "      border-radius: 50%;\n",
              "      cursor: pointer;\n",
              "      display: none;\n",
              "      fill: #1967D2;\n",
              "      height: 32px;\n",
              "      padding: 0 0 0 0;\n",
              "      width: 32px;\n",
              "    }\n",
              "\n",
              "    .colab-df-convert:hover {\n",
              "      background-color: #E2EBFA;\n",
              "      box-shadow: 0px 1px 2px rgba(60, 64, 67, 0.3), 0px 1px 3px 1px rgba(60, 64, 67, 0.15);\n",
              "      fill: #174EA6;\n",
              "    }\n",
              "\n",
              "    [theme=dark] .colab-df-convert {\n",
              "      background-color: #3B4455;\n",
              "      fill: #D2E3FC;\n",
              "    }\n",
              "\n",
              "    [theme=dark] .colab-df-convert:hover {\n",
              "      background-color: #434B5C;\n",
              "      box-shadow: 0px 1px 3px 1px rgba(0, 0, 0, 0.15);\n",
              "      filter: drop-shadow(0px 1px 2px rgba(0, 0, 0, 0.3));\n",
              "      fill: #FFFFFF;\n",
              "    }\n",
              "  </style>\n",
              "\n",
              "      <script>\n",
              "        const buttonEl =\n",
              "          document.querySelector('#df-40445064-a169-4fd7-9138-84d6c898d925 button.colab-df-convert');\n",
              "        buttonEl.style.display =\n",
              "          google.colab.kernel.accessAllowed ? 'block' : 'none';\n",
              "\n",
              "        async function convertToInteractive(key) {\n",
              "          const element = document.querySelector('#df-40445064-a169-4fd7-9138-84d6c898d925');\n",
              "          const dataTable =\n",
              "            await google.colab.kernel.invokeFunction('convertToInteractive',\n",
              "                                                     [key], {});\n",
              "          if (!dataTable) return;\n",
              "\n",
              "          const docLinkHtml = 'Like what you see? Visit the ' +\n",
              "            '<a target=\"_blank\" href=https://colab.research.google.com/notebooks/data_table.ipynb>data table notebook</a>'\n",
              "            + ' to learn more about interactive tables.';\n",
              "          element.innerHTML = '';\n",
              "          dataTable['output_type'] = 'display_data';\n",
              "          await google.colab.output.renderOutput(dataTable, element);\n",
              "          const docLink = document.createElement('div');\n",
              "          docLink.innerHTML = docLinkHtml;\n",
              "          element.appendChild(docLink);\n",
              "        }\n",
              "      </script>\n",
              "    </div>\n",
              "  </div>\n",
              "  "
            ],
            "text/plain": [
              "       wt1  wt2  wt3  wt4  wt5  ko1  ko2  ko3  ko4  ko5\n",
              "gene1  NaN  NaN  NaN  NaN  NaN  NaN  NaN  NaN  NaN  NaN\n",
              "gene2  NaN  NaN  NaN  NaN  NaN  NaN  NaN  NaN  NaN  NaN\n",
              "gene3  NaN  NaN  NaN  NaN  NaN  NaN  NaN  NaN  NaN  NaN\n",
              "gene4  NaN  NaN  NaN  NaN  NaN  NaN  NaN  NaN  NaN  NaN\n",
              "gene5  NaN  NaN  NaN  NaN  NaN  NaN  NaN  NaN  NaN  NaN"
            ]
          },
          "execution_count": 24,
          "metadata": {},
          "output_type": "execute_result"
        }
      ],
      "source": [
        "data = pd.DataFrame(columns=[*wt, *ko], index=genes)\n",
        "data.head()"
      ]
    },
    {
      "cell_type": "code",
      "execution_count": null,
      "metadata": {
        "id": "fU_BKS5g0FdI"
      },
      "outputs": [],
      "source": [
        "for gene in data.index: \n",
        "    data.loc[gene,'wt1':'wt5'] = np.random.poisson(lam=rd.randrange(500,1000), size=5)\n",
        "    data.loc[gene,'ko1':'ko5'] = np.random.poisson(lam=rd.randrange(10,500), size=5)"
      ]
    },
    {
      "cell_type": "code",
      "execution_count": null,
      "metadata": {
        "colab": {
          "base_uri": "https://localhost:8080/"
        },
        "id": "4f7Y9MJD0OZn",
        "outputId": "6724efd2-8349-44d1-d152-d3dd54acc7fc"
      },
      "outputs": [
        {
          "name": "stdout",
          "output_type": "stream",
          "text": [
            "        wt1  wt2  wt3  wt4  wt5  ko1  ko2  ko3  ko4  ko5\n",
            "gene1   835  911  914  865  888  211  227  204  231  200\n",
            "gene2   829  762  817  836  818   78   81   88   85   85\n",
            "gene3   723  711  760  741  730  448  410  400  423  450\n",
            "gene4  1003  963  947  969  971  273  256  266  254  286\n",
            "gene5   653  698  635  644  695   86   74   73   79   84\n"
          ]
        }
      ],
      "source": [
        "print(data.head())"
      ]
    },
    {
      "cell_type": "code",
      "execution_count": null,
      "metadata": {
        "colab": {
          "base_uri": "https://localhost:8080/"
        },
        "id": "4WPrgvkx0Phm",
        "outputId": "945f2af9-fd41-4e9b-b498-c4579d543248"
      },
      "outputs": [
        {
          "name": "stdout",
          "output_type": "stream",
          "text": [
            "(100, 10)\n"
          ]
        }
      ],
      "source": [
        "print(data.shape)"
      ]
    },
    {
      "cell_type": "code",
      "execution_count": null,
      "metadata": {
        "colab": {
          "base_uri": "https://localhost:8080/",
          "height": 436
        },
        "id": "68hNSaBv0rW8",
        "outputId": "7be45886-b8b4-4a2e-ca41-436f79e2e66b"
      },
      "outputs": [
        {
          "data": {
            "text/html": [
              "\n",
              "  <div id=\"df-1fcaafbf-0886-42e0-8249-726d656afea8\">\n",
              "    <div class=\"colab-df-container\">\n",
              "      <div>\n",
              "<style scoped>\n",
              "    .dataframe tbody tr th:only-of-type {\n",
              "        vertical-align: middle;\n",
              "    }\n",
              "\n",
              "    .dataframe tbody tr th {\n",
              "        vertical-align: top;\n",
              "    }\n",
              "\n",
              "    .dataframe thead th {\n",
              "        text-align: right;\n",
              "    }\n",
              "</style>\n",
              "<table border=\"1\" class=\"dataframe\">\n",
              "  <thead>\n",
              "    <tr style=\"text-align: right;\">\n",
              "      <th></th>\n",
              "      <th>gene1</th>\n",
              "      <th>gene2</th>\n",
              "      <th>gene3</th>\n",
              "      <th>gene4</th>\n",
              "      <th>gene5</th>\n",
              "      <th>gene6</th>\n",
              "      <th>gene7</th>\n",
              "      <th>gene8</th>\n",
              "      <th>gene9</th>\n",
              "      <th>gene10</th>\n",
              "      <th>...</th>\n",
              "      <th>gene91</th>\n",
              "      <th>gene92</th>\n",
              "      <th>gene93</th>\n",
              "      <th>gene94</th>\n",
              "      <th>gene95</th>\n",
              "      <th>gene96</th>\n",
              "      <th>gene97</th>\n",
              "      <th>gene98</th>\n",
              "      <th>gene99</th>\n",
              "      <th>gene100</th>\n",
              "    </tr>\n",
              "  </thead>\n",
              "  <tbody>\n",
              "    <tr>\n",
              "      <th>wt1</th>\n",
              "      <td>835</td>\n",
              "      <td>829</td>\n",
              "      <td>723</td>\n",
              "      <td>1003</td>\n",
              "      <td>653</td>\n",
              "      <td>655</td>\n",
              "      <td>605</td>\n",
              "      <td>898</td>\n",
              "      <td>661</td>\n",
              "      <td>617</td>\n",
              "      <td>...</td>\n",
              "      <td>731</td>\n",
              "      <td>639</td>\n",
              "      <td>778</td>\n",
              "      <td>702</td>\n",
              "      <td>636</td>\n",
              "      <td>718</td>\n",
              "      <td>785</td>\n",
              "      <td>650</td>\n",
              "      <td>552</td>\n",
              "      <td>557</td>\n",
              "    </tr>\n",
              "    <tr>\n",
              "      <th>wt2</th>\n",
              "      <td>911</td>\n",
              "      <td>762</td>\n",
              "      <td>711</td>\n",
              "      <td>963</td>\n",
              "      <td>698</td>\n",
              "      <td>593</td>\n",
              "      <td>626</td>\n",
              "      <td>943</td>\n",
              "      <td>615</td>\n",
              "      <td>624</td>\n",
              "      <td>...</td>\n",
              "      <td>748</td>\n",
              "      <td>598</td>\n",
              "      <td>755</td>\n",
              "      <td>642</td>\n",
              "      <td>670</td>\n",
              "      <td>786</td>\n",
              "      <td>760</td>\n",
              "      <td>632</td>\n",
              "      <td>566</td>\n",
              "      <td>524</td>\n",
              "    </tr>\n",
              "    <tr>\n",
              "      <th>wt3</th>\n",
              "      <td>914</td>\n",
              "      <td>817</td>\n",
              "      <td>760</td>\n",
              "      <td>947</td>\n",
              "      <td>635</td>\n",
              "      <td>621</td>\n",
              "      <td>659</td>\n",
              "      <td>895</td>\n",
              "      <td>660</td>\n",
              "      <td>641</td>\n",
              "      <td>...</td>\n",
              "      <td>699</td>\n",
              "      <td>635</td>\n",
              "      <td>798</td>\n",
              "      <td>685</td>\n",
              "      <td>661</td>\n",
              "      <td>752</td>\n",
              "      <td>792</td>\n",
              "      <td>693</td>\n",
              "      <td>542</td>\n",
              "      <td>581</td>\n",
              "    </tr>\n",
              "    <tr>\n",
              "      <th>wt4</th>\n",
              "      <td>865</td>\n",
              "      <td>836</td>\n",
              "      <td>741</td>\n",
              "      <td>969</td>\n",
              "      <td>644</td>\n",
              "      <td>576</td>\n",
              "      <td>640</td>\n",
              "      <td>853</td>\n",
              "      <td>650</td>\n",
              "      <td>642</td>\n",
              "      <td>...</td>\n",
              "      <td>732</td>\n",
              "      <td>603</td>\n",
              "      <td>808</td>\n",
              "      <td>695</td>\n",
              "      <td>710</td>\n",
              "      <td>721</td>\n",
              "      <td>783</td>\n",
              "      <td>657</td>\n",
              "      <td>569</td>\n",
              "      <td>539</td>\n",
              "    </tr>\n",
              "    <tr>\n",
              "      <th>wt5</th>\n",
              "      <td>888</td>\n",
              "      <td>818</td>\n",
              "      <td>730</td>\n",
              "      <td>971</td>\n",
              "      <td>695</td>\n",
              "      <td>567</td>\n",
              "      <td>619</td>\n",
              "      <td>902</td>\n",
              "      <td>634</td>\n",
              "      <td>622</td>\n",
              "      <td>...</td>\n",
              "      <td>764</td>\n",
              "      <td>635</td>\n",
              "      <td>782</td>\n",
              "      <td>714</td>\n",
              "      <td>656</td>\n",
              "      <td>719</td>\n",
              "      <td>805</td>\n",
              "      <td>672</td>\n",
              "      <td>524</td>\n",
              "      <td>527</td>\n",
              "    </tr>\n",
              "    <tr>\n",
              "      <th>ko1</th>\n",
              "      <td>211</td>\n",
              "      <td>78</td>\n",
              "      <td>448</td>\n",
              "      <td>273</td>\n",
              "      <td>86</td>\n",
              "      <td>342</td>\n",
              "      <td>481</td>\n",
              "      <td>405</td>\n",
              "      <td>436</td>\n",
              "      <td>273</td>\n",
              "      <td>...</td>\n",
              "      <td>366</td>\n",
              "      <td>47</td>\n",
              "      <td>427</td>\n",
              "      <td>303</td>\n",
              "      <td>228</td>\n",
              "      <td>178</td>\n",
              "      <td>214</td>\n",
              "      <td>398</td>\n",
              "      <td>465</td>\n",
              "      <td>362</td>\n",
              "    </tr>\n",
              "    <tr>\n",
              "      <th>ko2</th>\n",
              "      <td>227</td>\n",
              "      <td>81</td>\n",
              "      <td>410</td>\n",
              "      <td>256</td>\n",
              "      <td>74</td>\n",
              "      <td>328</td>\n",
              "      <td>454</td>\n",
              "      <td>435</td>\n",
              "      <td>438</td>\n",
              "      <td>293</td>\n",
              "      <td>...</td>\n",
              "      <td>372</td>\n",
              "      <td>64</td>\n",
              "      <td>380</td>\n",
              "      <td>321</td>\n",
              "      <td>241</td>\n",
              "      <td>152</td>\n",
              "      <td>203</td>\n",
              "      <td>399</td>\n",
              "      <td>454</td>\n",
              "      <td>356</td>\n",
              "    </tr>\n",
              "    <tr>\n",
              "      <th>ko3</th>\n",
              "      <td>204</td>\n",
              "      <td>88</td>\n",
              "      <td>400</td>\n",
              "      <td>266</td>\n",
              "      <td>73</td>\n",
              "      <td>342</td>\n",
              "      <td>504</td>\n",
              "      <td>393</td>\n",
              "      <td>442</td>\n",
              "      <td>294</td>\n",
              "      <td>...</td>\n",
              "      <td>386</td>\n",
              "      <td>58</td>\n",
              "      <td>390</td>\n",
              "      <td>301</td>\n",
              "      <td>255</td>\n",
              "      <td>165</td>\n",
              "      <td>234</td>\n",
              "      <td>411</td>\n",
              "      <td>436</td>\n",
              "      <td>392</td>\n",
              "    </tr>\n",
              "    <tr>\n",
              "      <th>ko4</th>\n",
              "      <td>231</td>\n",
              "      <td>85</td>\n",
              "      <td>423</td>\n",
              "      <td>254</td>\n",
              "      <td>79</td>\n",
              "      <td>326</td>\n",
              "      <td>481</td>\n",
              "      <td>384</td>\n",
              "      <td>459</td>\n",
              "      <td>265</td>\n",
              "      <td>...</td>\n",
              "      <td>367</td>\n",
              "      <td>43</td>\n",
              "      <td>367</td>\n",
              "      <td>285</td>\n",
              "      <td>239</td>\n",
              "      <td>162</td>\n",
              "      <td>201</td>\n",
              "      <td>382</td>\n",
              "      <td>497</td>\n",
              "      <td>364</td>\n",
              "    </tr>\n",
              "    <tr>\n",
              "      <th>ko5</th>\n",
              "      <td>200</td>\n",
              "      <td>85</td>\n",
              "      <td>450</td>\n",
              "      <td>286</td>\n",
              "      <td>84</td>\n",
              "      <td>336</td>\n",
              "      <td>446</td>\n",
              "      <td>423</td>\n",
              "      <td>424</td>\n",
              "      <td>291</td>\n",
              "      <td>...</td>\n",
              "      <td>395</td>\n",
              "      <td>52</td>\n",
              "      <td>392</td>\n",
              "      <td>295</td>\n",
              "      <td>248</td>\n",
              "      <td>165</td>\n",
              "      <td>228</td>\n",
              "      <td>353</td>\n",
              "      <td>470</td>\n",
              "      <td>348</td>\n",
              "    </tr>\n",
              "  </tbody>\n",
              "</table>\n",
              "<p>10 rows × 100 columns</p>\n",
              "</div>\n",
              "      <button class=\"colab-df-convert\" onclick=\"convertToInteractive('df-1fcaafbf-0886-42e0-8249-726d656afea8')\"\n",
              "              title=\"Convert this dataframe to an interactive table.\"\n",
              "              style=\"display:none;\">\n",
              "        \n",
              "  <svg xmlns=\"http://www.w3.org/2000/svg\" height=\"24px\"viewBox=\"0 0 24 24\"\n",
              "       width=\"24px\">\n",
              "    <path d=\"M0 0h24v24H0V0z\" fill=\"none\"/>\n",
              "    <path d=\"M18.56 5.44l.94 2.06.94-2.06 2.06-.94-2.06-.94-.94-2.06-.94 2.06-2.06.94zm-11 1L8.5 8.5l.94-2.06 2.06-.94-2.06-.94L8.5 2.5l-.94 2.06-2.06.94zm10 10l.94 2.06.94-2.06 2.06-.94-2.06-.94-.94-2.06-.94 2.06-2.06.94z\"/><path d=\"M17.41 7.96l-1.37-1.37c-.4-.4-.92-.59-1.43-.59-.52 0-1.04.2-1.43.59L10.3 9.45l-7.72 7.72c-.78.78-.78 2.05 0 2.83L4 21.41c.39.39.9.59 1.41.59.51 0 1.02-.2 1.41-.59l7.78-7.78 2.81-2.81c.8-.78.8-2.07 0-2.86zM5.41 20L4 18.59l7.72-7.72 1.47 1.35L5.41 20z\"/>\n",
              "  </svg>\n",
              "      </button>\n",
              "      \n",
              "  <style>\n",
              "    .colab-df-container {\n",
              "      display:flex;\n",
              "      flex-wrap:wrap;\n",
              "      gap: 12px;\n",
              "    }\n",
              "\n",
              "    .colab-df-convert {\n",
              "      background-color: #E8F0FE;\n",
              "      border: none;\n",
              "      border-radius: 50%;\n",
              "      cursor: pointer;\n",
              "      display: none;\n",
              "      fill: #1967D2;\n",
              "      height: 32px;\n",
              "      padding: 0 0 0 0;\n",
              "      width: 32px;\n",
              "    }\n",
              "\n",
              "    .colab-df-convert:hover {\n",
              "      background-color: #E2EBFA;\n",
              "      box-shadow: 0px 1px 2px rgba(60, 64, 67, 0.3), 0px 1px 3px 1px rgba(60, 64, 67, 0.15);\n",
              "      fill: #174EA6;\n",
              "    }\n",
              "\n",
              "    [theme=dark] .colab-df-convert {\n",
              "      background-color: #3B4455;\n",
              "      fill: #D2E3FC;\n",
              "    }\n",
              "\n",
              "    [theme=dark] .colab-df-convert:hover {\n",
              "      background-color: #434B5C;\n",
              "      box-shadow: 0px 1px 3px 1px rgba(0, 0, 0, 0.15);\n",
              "      filter: drop-shadow(0px 1px 2px rgba(0, 0, 0, 0.3));\n",
              "      fill: #FFFFFF;\n",
              "    }\n",
              "  </style>\n",
              "\n",
              "      <script>\n",
              "        const buttonEl =\n",
              "          document.querySelector('#df-1fcaafbf-0886-42e0-8249-726d656afea8 button.colab-df-convert');\n",
              "        buttonEl.style.display =\n",
              "          google.colab.kernel.accessAllowed ? 'block' : 'none';\n",
              "\n",
              "        async function convertToInteractive(key) {\n",
              "          const element = document.querySelector('#df-1fcaafbf-0886-42e0-8249-726d656afea8');\n",
              "          const dataTable =\n",
              "            await google.colab.kernel.invokeFunction('convertToInteractive',\n",
              "                                                     [key], {});\n",
              "          if (!dataTable) return;\n",
              "\n",
              "          const docLinkHtml = 'Like what you see? Visit the ' +\n",
              "            '<a target=\"_blank\" href=https://colab.research.google.com/notebooks/data_table.ipynb>data table notebook</a>'\n",
              "            + ' to learn more about interactive tables.';\n",
              "          element.innerHTML = '';\n",
              "          dataTable['output_type'] = 'display_data';\n",
              "          await google.colab.output.renderOutput(dataTable, element);\n",
              "          const docLink = document.createElement('div');\n",
              "          docLink.innerHTML = docLinkHtml;\n",
              "          element.appendChild(docLink);\n",
              "        }\n",
              "      </script>\n",
              "    </div>\n",
              "  </div>\n",
              "  "
            ],
            "text/plain": [
              "    gene1 gene2 gene3 gene4 gene5 gene6 gene7 gene8 gene9 gene10  ... gene91  \\\n",
              "wt1   835   829   723  1003   653   655   605   898   661    617  ...    731   \n",
              "wt2   911   762   711   963   698   593   626   943   615    624  ...    748   \n",
              "wt3   914   817   760   947   635   621   659   895   660    641  ...    699   \n",
              "wt4   865   836   741   969   644   576   640   853   650    642  ...    732   \n",
              "wt5   888   818   730   971   695   567   619   902   634    622  ...    764   \n",
              "ko1   211    78   448   273    86   342   481   405   436    273  ...    366   \n",
              "ko2   227    81   410   256    74   328   454   435   438    293  ...    372   \n",
              "ko3   204    88   400   266    73   342   504   393   442    294  ...    386   \n",
              "ko4   231    85   423   254    79   326   481   384   459    265  ...    367   \n",
              "ko5   200    85   450   286    84   336   446   423   424    291  ...    395   \n",
              "\n",
              "    gene92 gene93 gene94 gene95 gene96 gene97 gene98 gene99 gene100  \n",
              "wt1    639    778    702    636    718    785    650    552     557  \n",
              "wt2    598    755    642    670    786    760    632    566     524  \n",
              "wt3    635    798    685    661    752    792    693    542     581  \n",
              "wt4    603    808    695    710    721    783    657    569     539  \n",
              "wt5    635    782    714    656    719    805    672    524     527  \n",
              "ko1     47    427    303    228    178    214    398    465     362  \n",
              "ko2     64    380    321    241    152    203    399    454     356  \n",
              "ko3     58    390    301    255    165    234    411    436     392  \n",
              "ko4     43    367    285    239    162    201    382    497     364  \n",
              "ko5     52    392    295    248    165    228    353    470     348  \n",
              "\n",
              "[10 rows x 100 columns]"
            ]
          },
          "execution_count": 28,
          "metadata": {},
          "output_type": "execute_result"
        }
      ],
      "source": [
        "data=data.T\n",
        "data"
      ]
    },
    {
      "cell_type": "markdown",
      "metadata": {
        "id": "46fmWbbO00B3"
      },
      "source": [
        "Data yang dimiliki adalah data dengan 100 fitur (genes) ditunjukkan oleh **KOLOM**. Dan 10 observasi data **BARIS**"
      ]
    },
    {
      "cell_type": "markdown",
      "metadata": {
        "id": "sfG1jg1m1BIw"
      },
      "source": [
        "# Perform PCA on the data"
      ]
    },
    {
      "cell_type": "markdown",
      "metadata": {
        "id": "VJLt70OY1WVT"
      },
      "source": [
        "scale = $\\frac{(measure-mean)^2}{n.measurements}$"
      ]
    },
    {
      "cell_type": "code",
      "execution_count": null,
      "metadata": {
        "id": "J0N5c_Z30zio"
      },
      "outputs": [],
      "source": [
        "# First center and scale the data\n",
        "scaled_data = preprocessing.scale(data)"
      ]
    },
    {
      "cell_type": "code",
      "execution_count": null,
      "metadata": {
        "id": "UIgtoxDf23ax"
      },
      "outputs": [],
      "source": [
        "pca = PCA() # create a PCA object\n",
        "pca.fit(scaled_data) # do the math\n",
        "pca_data = pca.transform(scaled_data) # get PCA coordinates for scaled_data"
      ]
    },
    {
      "cell_type": "markdown",
      "metadata": {
        "id": "0jbJQxa83I0Z"
      },
      "source": [
        "# Draw a scree plot and a PCA plot"
      ]
    },
    {
      "cell_type": "code",
      "execution_count": null,
      "metadata": {
        "colab": {
          "base_uri": "https://localhost:8080/",
          "height": 295
        },
        "id": "dB3bxqO83Jjc",
        "outputId": "d3aaf7c7-2867-466c-cccb-e45952b4aef5"
      },
      "outputs": [
        {
          "data": {
            "image/png": "[encoded data removed]",
            "text/plain": [
              "<Figure size 432x288 with 1 Axes>"
            ]
          },
          "metadata": {
            "needs_background": "light"
          },
          "output_type": "display_data"
        }
      ],
      "source": [
        "#The following code constructs the Scree plot\n",
        "per_var = np.round(pca.explained_variance_ratio_* 100, decimals=1)\n",
        "labels = ['PC' + str(x) for x in range(1, len(per_var)+1)]\n",
        " \n",
        "plt.bar(x=range(1,len(per_var)+1), height=per_var, tick_label=labels)\n",
        "plt.ylabel('Percentage of Explained Variance')\n",
        "plt.xlabel('Principal Component')\n",
        "plt.title('Scree Plot')\n",
        "plt.show()"
      ]
    },
    {
      "cell_type": "code",
      "execution_count": null,
      "metadata": {
        "colab": {
          "base_uri": "https://localhost:8080/"
        },
        "id": "2POKkl_9CBCX",
        "outputId": "9c6f9191-25be-4f99-ed83-0730f22a4b29"
      },
      "outputs": [
        {
          "data": {
            "text/plain": [
              "array([98.6,  0.4,  0.3,  0.2,  0.2,  0.1,  0.1,  0.1,  0.1,  0. ])"
            ]
          },
          "execution_count": 32,
          "metadata": {},
          "output_type": "execute_result"
        }
      ],
      "source": [
        "np.round(pca.explained_variance_ratio_* 100, decimals=1)"
      ]
    },
    {
      "cell_type": "code",
      "execution_count": null,
      "metadata": {
        "colab": {
          "base_uri": "https://localhost:8080/",
          "height": 295
        },
        "id": "xkdrH4To65uR",
        "outputId": "29555c58-74bf-4244-92f4-62ac9f76b469"
      },
      "outputs": [
        {
          "data": {
            "image/png": "[encoded data removed]",
            "text/plain": [
              "<Figure size 432x288 with 1 Axes>"
            ]
          },
          "metadata": {
            "needs_background": "light"
          },
          "output_type": "display_data"
        }
      ],
      "source": [
        "\n",
        "#the following code makes a fancy looking plot using PC1 and PC2\n",
        "pca_df = pd.DataFrame(pca_data, index=[*wt, *ko], columns=labels)\n",
        " \n",
        "plt.scatter(pca_df.PC1, pca_df.PC2)\n",
        "plt.title('My PCA Graph')\n",
        "plt.xlabel('PC1 - {0}%'.format(per_var[0]))\n",
        "plt.ylabel('PC2 - {0}%'.format(per_var[1]))\n",
        " \n",
        "for sample in pca_df.index:\n",
        "    plt.annotate(sample, (pca_df.PC1.loc[sample], pca_df.PC2.loc[sample]))\n",
        " \n",
        "plt.show()"
      ]
    },
    {
      "cell_type": "markdown",
      "metadata": {
        "id": "zx45UoT7CZgw"
      },
      "source": [
        "**Insight**\n",
        "\n",
        "\n",
        "\n",
        "*   Secara umum data terdiri atas 2 cluster yaitu ko dan wt\n",
        "*   Semakin jauh jarak titik observasi semakin jauh karakteristiknya\n",
        "*   Nilai informasi yang ditangkap oleh visualisi diatas PC 1 sebesar 92.5%\n",
        " \n",
        "\n",
        "\n",
        "\n"
      ]
    },
    {
      "cell_type": "markdown",
      "metadata": {
        "id": "tZIi605X-o_W"
      },
      "source": [
        "# Determine which genes had the biggest influence on PC1"
      ]
    },
    {
      "cell_type": "code",
      "execution_count": null,
      "metadata": {
        "colab": {
          "base_uri": "https://localhost:8080/"
        },
        "id": "sUP9UA1F-pzG",
        "outputId": "7aa77bf3-72c7-41bb-ffcd-dc50c2946ad8"
      },
      "outputs": [
        {
          "data": {
            "text/plain": [
              "gene1      0.100463\n",
              "gene2      0.100608\n",
              "gene3      0.100002\n",
              "gene4      0.100655\n",
              "gene5      0.100536\n",
              "             ...   \n",
              "gene96     0.100472\n",
              "gene97     0.100629\n",
              "gene98     0.099627\n",
              "gene99     0.092561\n",
              "gene100    0.098719\n",
              "Length: 100, dtype: float64"
            ]
          },
          "execution_count": 39,
          "metadata": {},
          "output_type": "execute_result"
        }
      ],
      "source": [
        "## get the name of the top 10 measurements (genes) that contribute\n",
        "## most to pc1.\n",
        "## first, get the loading scores\n",
        "loading_scores = pd.Series(pca.components_[0], index=genes)\n",
        "loading_scores"
      ]
    },
    {
      "cell_type": "markdown",
      "metadata": {
        "id": "rMCsUT-L_pYD"
      },
      "source": [
        "Loading score menunjukkan nilai korelasi fitur terhadap PC, semakin besar loading score semakin memberi kontribusi yang besar terhadap PC"
      ]
    },
    {
      "cell_type": "code",
      "execution_count": null,
      "metadata": {
        "colab": {
          "base_uri": "https://localhost:8080/"
        },
        "id": "u-rO5Rh3_Fpo",
        "outputId": "c69ecb6d-f9fa-4153-9a0b-b5d3f5aaf755"
      },
      "outputs": [
        {
          "data": {
            "text/plain": [
              "gene81    0.100715\n",
              "gene57    0.100691\n",
              "gene37    0.100673\n",
              "gene68    0.100672\n",
              "gene78    0.100670\n",
              "            ...   \n",
              "gene11    0.098077\n",
              "gene7     0.097659\n",
              "gene75    0.093923\n",
              "gene99    0.092561\n",
              "gene56    0.090661\n",
              "Length: 100, dtype: float64"
            ]
          },
          "execution_count": 40,
          "metadata": {},
          "output_type": "execute_result"
        }
      ],
      "source": [
        "## now sort the loading scores based on their magnitude (besar ke kecil)\n",
        "sorted_loading_scores = loading_scores.abs().sort_values(ascending=False)\n",
        "sorted_loading_scores"
      ]
    },
    {
      "cell_type": "code",
      "execution_count": null,
      "metadata": {
        "id": "yTqZCYP2ABvu"
      },
      "outputs": [],
      "source": [
        "# get the names of the top 10 genes\n",
        "top_10_genes = sorted_loading_scores[0:10].index.values"
      ]
    },
    {
      "cell_type": "code",
      "execution_count": null,
      "metadata": {
        "colab": {
          "base_uri": "https://localhost:8080/"
        },
        "id": "4lK7WJkbADJX",
        "outputId": "4d1ac5bc-aa79-4125-af83-a98a505730ae"
      },
      "outputs": [
        {
          "name": "stdout",
          "output_type": "stream",
          "text": [
            "gene81    0.100715\n",
            "gene57    0.100691\n",
            "gene37    0.100673\n",
            "gene68    0.100672\n",
            "gene78    0.100670\n",
            "gene85    0.100668\n",
            "gene29    0.100666\n",
            "gene18    0.100665\n",
            "gene44    0.100658\n",
            "gene4     0.100655\n",
            "dtype: float64\n"
          ]
        }
      ],
      "source": [
        "## print the gene names and their scores (and +/- sign)\n",
        "print(loading_scores[top_10_genes])"
      ]
    },
    {
      "cell_type": "markdown",
      "metadata": {
        "id": "IfTOSKZKqSDG"
      },
      "source": [
        "10 variabel yang memberikan impact tertinggi pada PC10 variabel yang memberikan impact tertinggi pada PC"
      ]
    },
    {
      "cell_type": "markdown",
      "metadata": {
        "id": "lVIcq8IeBwKZ"
      },
      "source": [
        "PCA bagian dari Unsupervised Learning\n",
        "\n",
        "PCA dapat Melihat karakteristik data high dimensi\n",
        "\n"
      ]
    },
    {
      "cell_type": "markdown",
      "metadata": {
        "id": "gPnPA8uHBzUc"
      },
      "source": [
        "## Self Learning: Membuat PCA dengan data Iris yang telah dikenali sebelumnya"
      ]
    }
  ],
  "metadata": {
    "colab": {
      "provenance": []
    },
    "kernelspec": {
      "display_name": "Python 3",
      "name": "python3"
    },
    "language_info": {
      "name": "python",
      "version": "3.10.4"
    }
  },
  "nbformat": 4,
  "nbformat_minor": 0
}
